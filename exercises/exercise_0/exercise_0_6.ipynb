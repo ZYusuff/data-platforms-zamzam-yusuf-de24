{
 "cells": [
  {
   "cell_type": "markdown",
   "metadata": {},
   "source": [
    "# Glossary\n"
   ]
  },
  {
   "cell_type": "markdown",
   "metadata": {},
   "source": [
    "Assign - The act of giving a value to a variable. E.g., x = 5 assigns the value 5 to the variable x. \n"
   ]
  },
  {
   "cell_type": "markdown",
   "metadata": {},
   "source": [
    "Logical Error - A mistake in the program's logic that causes it to behave incorrectly but not to crash (e.g., a wrong condition in an if statement).\n"
   ]
  },
  {
   "cell_type": "markdown",
   "metadata": {},
   "source": [
    "Handling error - The process of anticipating and managing exceptions or errors in code using try/except blocks.\n"
   ]
  },
  {
   "cell_type": "markdown",
   "metadata": {},
   "source": [
    "Indexing - Accessing an element from a sequence (like a list or string) by its position (index). E.g., my_list[2] accesses the third element of my_list.\n"
   ]
  },
  {
   "cell_type": "markdown",
   "metadata": {},
   "source": [
    "Slicing - A way to get a subset of a sequence (like a list or string) using the syntax start:end. E.g., my_list[1:4] returns elements from index 1 to 3 (excluding 4).\n"
   ]
  },
  {
   "cell_type": "markdown",
   "metadata": {},
   "source": [
    "+Iterable - An object that can be iterated over (e.g., a list, tuple, string, or dictionary). An iterable can be used in a for loop.\n"
   ]
  },
  {
   "cell_type": "markdown",
   "metadata": {},
   "source": [
    "iterate over - The act of going through each item of an iterable one by one, usually using a for loop. Example: for item in my_list: iterates over my_list.\n"
   ]
  },
  {
   "cell_type": "markdown",
   "metadata": {},
   "source": [
    "+List comprehension - A concise way to create lists. Syntax: [expression for item in iterable if condition]. Example: [x**2 for x in range(10)].\n"
   ]
  },
  {
   "cell_type": "markdown",
   "metadata": {},
   "source": [
    "+Collections - A module in Python that implements specialized container datatypes like Counter, deque, OrderedDict, defaultdict, etc.\n"
   ]
  },
  {
   "cell_type": "markdown",
   "metadata": {},
   "source": [
    "Tuples - An immutable sequence type in Python. They are like lists, but cannot be changed after creation. Example: t = (1, 2, 3).\n"
   ]
  },
  {
   "cell_type": "markdown",
   "metadata": {},
   "source": [
    "repr - A dunder method (special method) used to return a string representation of an object that is intended to be unambiguous. __repr__ is often used in debugging.\n"
   ]
  },
  {
   "cell_type": "markdown",
   "metadata": {},
   "source": [
    "Dunder methods - Methods with double underscores at the beginning and end (e.g., __init__, __repr__, __str__). These methods allow for customization of built-in behavior.\n"
   ]
  },
  {
   "cell_type": "markdown",
   "metadata": {},
   "source": [
    "Pythonic - Refers to writing code that follows Python's philosophy and idioms, making it clean, readable, and efficient. Examples include using list comprehensions and with statements.\n"
   ]
  },
  {
   "cell_type": "markdown",
   "metadata": {},
   "source": [
    "Idiomatic - Refers to writing code that adheres to the common practices and conventions in a specific language, often leading to more efficient, readable, and maintainable code.\n"
   ]
  },
  {
   "cell_type": "markdown",
   "metadata": {},
   "source": [
    "DRY - Acronym for \"Don't Repeat Yourself.\" A principle aimed at reducing repetition of code by reusing functions, classes, or variables.\n"
   ]
  },
  {
   "cell_type": "markdown",
   "metadata": {},
   "source": [
    "Spaghetti code - Code that is tangled, difficult to follow, and lacks structure. Typically associated with poor programming practices and a lack of modularity.\n"
   ]
  },
  {
   "cell_type": "markdown",
   "metadata": {},
   "source": [
    "Keyword arguments - Arguments passed to a function by explicitly specifying the name of the parameter. Example: def func(x, y): and calling func(x=5, y=10)."
   ]
  },
  {
   "cell_type": "markdown",
   "metadata": {},
   "source": [
    "Positional arguments - Arguments passed to a function based on their position. Example: def func(x, y): and calling func(5, 10), where 5 is passed to x and 10 to y.\n"
   ]
  },
  {
   "cell_type": "markdown",
   "metadata": {},
   "source": [
    "*args - A way to pass a variable number of positional arguments to a function. *args collects extra arguments into a tuple. Example: def func(*args):."
   ]
  },
  {
   "cell_type": "markdown",
   "metadata": {},
   "source": [
    "*kwargs - A way to pass a variable number of keyword arguments to a function. **kwargs collects extra keyword arguments into a dictionary. Example: def func(**kwargs):."
   ]
  },
  {
   "cell_type": "markdown",
   "metadata": {},
   "source": [
    "Unpacking list - The process of extracting values from a list or tuple into variables. Example: a, b, c = [1, 2, 3] unpacks the values 1, 2, and 3 into a, b, and c."
   ]
  },
  {
   "cell_type": "markdown",
   "metadata": {},
   "source": [
    "Return statement - A statement used in functions to send a result back to the caller. Example: return x + y returns the sum of x and y."
   ]
  },
  {
   "cell_type": "markdown",
   "metadata": {},
   "source": [
    "Ternary operator - A shorthand for if-else statements. Syntax: x if condition else y. It returns x if the condition is true, otherwise y."
   ]
  },
  {
   "cell_type": "markdown",
   "metadata": {},
   "source": [
    "JSON - JavaScript Object Notation. A lightweight data-interchange format that is easy to read and write for humans and machines. Python has a json module to work with JSON data."
   ]
  },
  {
   "cell_type": "markdown",
   "metadata": {},
   "source": [
    "# Theory questions"
   ]
  },
  {
   "cell_type": "markdown",
   "metadata": {},
   "source": [
    "### a) What are the fundamental data types in Python?"
   ]
  },
  {
   "cell_type": "markdown",
   "metadata": {},
   "source": [
    "int - integer values (whole numbers). x = 10, y = -5"
   ]
  },
  {
   "cell_type": "markdown",
   "metadata": {},
   "source": [
    "float -floating-point numbers (decimals). x = 3.14, y = -0.001"
   ]
  },
  {
   "cell_type": "markdown",
   "metadata": {},
   "source": [
    "bool - Boolean values (True or False).\tx = True, y = False"
   ]
  },
  {
   "cell_type": "markdown",
   "metadata": {},
   "source": [
    "str\t- String (sequence of characters).\tname = \"Alice\", greeting = 'Hi'"
   ]
  },
  {
   "cell_type": "markdown",
   "metadata": {},
   "source": [
    "list - Mutable ordered collection of items.\tmy_list = [1, 2, 3]"
   ]
  },
  {
   "cell_type": "markdown",
   "metadata": {},
   "source": [
    "tuple - Immutable ordered collection of items.\tmy_tuple = (1, 2, 3)"
   ]
  },
  {
   "cell_type": "markdown",
   "metadata": {},
   "source": [
    "dict - Unordered collection of key-value pairs.\tstudent = {\"id\": 101, \"name\": \"John\"}"
   ]
  },
  {
   "cell_type": "markdown",
   "metadata": {},
   "source": [
    "set - Unordered collection of unique items.\tmy_set = {1, 2, 3, 4}"
   ]
  },
  {
   "cell_type": "markdown",
   "metadata": {},
   "source": [
    "NoneType- Represents the absence of a value.\tx = None"
   ]
  },
  {
   "cell_type": "markdown",
   "metadata": {},
   "source": [
    "### b) What is the difference between a list and a tuple in Python?"
   ]
  },
  {
   "cell_type": "markdown",
   "metadata": {},
   "source": [
    "A list is mutable (can be modified) and defined with square brackets [], while a tuple is immutable (cannot be modified) and defined with parentheses (). Lists have more methods (like append() and remove()), whereas tuples are faster and more memory-efficient. Lists are used when data may change, while tuples are best for fixed, unchangeable data."
   ]
  },
  {
   "cell_type": "markdown",
   "metadata": {},
   "source": [
    "### c) How does Python handle mutable and immutable data types?"
   ]
  },
  {
   "cell_type": "markdown",
   "metadata": {},
   "source": [
    "In Python, mutable data types (like lists, sets, and dictionaries) can be changed after creation, meaning their values can be modified, added, or removed. Immutable data types (like strings, tuples, and integers) cannot be changed once created; any operation that appears to modify them actually creates a new object. Python manages memory for immutable types more efficiently, allowing them to be used as keys in dictionaries or elements in sets."
   ]
  },
  {
   "cell_type": "markdown",
   "metadata": {},
   "source": [
    "### d) Explain the difference between for and while loops and when to use one or the other."
   ]
  },
  {
   "cell_type": "markdown",
   "metadata": {},
   "source": [
    "A for loop is used when you know the number of iterations beforehand, or when iterating over a sequence (like a list, tuple, or range). It's ideal for looping over a fixed set of items.\n",
    "\n",
    "A while loop is used when the number of iterations is not known in advance and you want to repeat a block of code as long as a condition remains true. It’s useful when the loop should continue until a specific condition is met, but the number of iterations may vary."
   ]
  },
  {
   "cell_type": "markdown",
   "metadata": {},
   "source": [
    "### e) How do you read a file line-by-line in Python?"
   ]
  },
  {
   "cell_type": "markdown",
   "metadata": {},
   "source": [
    "To read a file line-by-line in Python, you can use a for loop to iterate over the file object. This automatically reads one line at a time.\n",
    "\n",
    "Example:\n"
   ]
  },
  {
   "cell_type": "code",
   "execution_count": null,
   "metadata": {},
   "outputs": [],
   "source": [
    "with open('file.txt', 'r') as file:\n",
    "    for line in file:\n",
    "        print(line.strip()) # File is automatically closed when the block exits"
   ]
  },
  {
   "cell_type": "markdown",
   "metadata": {},
   "source": [
    "This approach opens the file, reads each line one by one, and prints it. The with statement ensures the file is properly closed after reading."
   ]
  },
  {
   "cell_type": "markdown",
   "metadata": {},
   "source": [
    "### f) What is a context manager and why would you need to use it?"
   ]
  },
  {
   "cell_type": "markdown",
   "metadata": {},
   "source": [
    "A context manager is an object that manages resource setup and cleanup, typically used with the with statement. It ensures resources like files or database connections are properly opened and closed, even if an error occurs. This makes code cleaner and more reliable by handling cleanup automatically."
   ]
  },
  {
   "cell_type": "markdown",
   "metadata": {},
   "source": [
    "### g) Explain the difference between try, except, else, and finally."
   ]
  },
  {
   "cell_type": "markdown",
   "metadata": {},
   "source": [
    "Try: Used to wrap code that might raise an exception. If an exception occurs, it’s handled by the corresponding except block.\n",
    "\n",
    "except: Catches and handles exceptions that occur in the try block.\n",
    "\n",
    "else: Runs if no exception is raised in the try block. It’s useful for code that should only run when no errors occur.\n",
    "\n",
    "finally: Always runs, regardless of whether an exception occurred or not. It's typically used for cleanup (e.g., closing files or releasing resources)."
   ]
  },
  {
   "cell_type": "code",
   "execution_count": null,
   "metadata": {},
   "outputs": [],
   "source": [
    "try:\n",
    "    x = 10 / 0  # This will raise an exception\n",
    "except ZeroDivisionError:\n",
    "    print(\"Cannot divide by zero\")\n",
    "else:\n",
    "    print(\"No error occurred\")\n",
    "finally:\n",
    "    print(\"This will always run\")"
   ]
  },
  {
   "cell_type": "markdown",
   "metadata": {},
   "source": [
    "### h) What is the difference between ETL and ELT?"
   ]
  },
  {
   "cell_type": "markdown",
   "metadata": {},
   "source": [
    "The main difference between ETL (Extract, Transform, Load) and ELT (Extract, Load, Transform) is the order in which the data transformation and loading processes occur.\n",
    "\n",
    "ETL: Data is extracted from the source, then transformed (cleaned, aggregated, or modified), and finally loaded into the target system (e.g., a data warehouse). This is typically used when the target system is not capable of handling complex transformations.\n",
    "\n",
    "ELT: Data is extracted from the source and loaded directly into the target system, where the transformation takes place. ELT is often used when the target system (like cloud data warehouses) has sufficient processing power to handle transformations efficiently.\n",
    "\n",
    "When to use:\n",
    "\n",
    "ETL: Best when transformations are complex and need to be done before loading.\n",
    "\n",
    "ELT: Ideal when the target system is powerful enough to perform transformations after loading."
   ]
  },
  {
   "cell_type": "markdown",
   "metadata": {},
   "source": [
    "### i) Differentiate between batch processing and streaming processing."
   ]
  },
  {
   "cell_type": "markdown",
   "metadata": {},
   "source": [
    "Batch processing: Involves processing large volumes of data at once, typically at scheduled intervals (e.g., hourly, daily). Data is collected, stored, and processed in chunks or batches. It’s suited for tasks that don't require real-time results.\n",
    "\n",
    "Example: Daily sales reports or end-of-day data processing.\n",
    "Streaming processing: Involves processing data in real-time as it arrives, one record at a time. It’s ideal for time-sensitive applications where immediate actions are needed.\n",
    "\n",
    "Example: Real-time stock market analysis or monitoring social media feeds."
   ]
  },
  {
   "cell_type": "markdown",
   "metadata": {},
   "source": [
    "### j) What is a data platform?"
   ]
  },
  {
   "cell_type": "markdown",
   "metadata": {},
   "source": [
    "A data platform is a unified system that enables the collection, storage, processing, analysis, and sharing of data. It integrates various tools and technologies to manage data pipelines, provide insights, and support decision-making. Data platforms typically include components for data ingestion, storage (e.g., databases, data lakes), processing (e.g., ETL/ELT), and analytics (e.g., dashboards, machine learning models).\n",
    "\n",
    "Example: A cloud-based data platform like AWS, Azure, or Google Cloud that combines storage (like S3 or BigQuery), processing (like Spark or DataFlow), and analysis (like Tableau or Power BI)."
   ]
  }
 ],
 "metadata": {
  "kernelspec": {
   "display_name": ".venv",
   "language": "python",
   "name": "python3"
  },
  "language_info": {
   "name": "python",
   "version": "3.12.5"
  }
 },
 "nbformat": 4,
 "nbformat_minor": 2
}
