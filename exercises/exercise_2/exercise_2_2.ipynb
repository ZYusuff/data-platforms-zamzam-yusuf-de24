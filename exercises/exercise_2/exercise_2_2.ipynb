{
 "cells": [
  {
   "cell_type": "markdown",
   "metadata": {},
   "source": [
    "# Theory questions"
   ]
  },
  {
   "cell_type": "markdown",
   "metadata": {},
   "source": [
    "### a) What is the purpose of a dockerfile?"
   ]
  },
  {
   "cell_type": "markdown",
   "metadata": {},
   "source": [
    "A Dockerfile is a script that contains instructions to build a Docker image. It automates the process of creating a Docker image, specifying the base image, dependencies, environment variables, files to copy, and commands to run. In essence, it is a blueprint that defines how a containerized application should be set up."
   ]
  },
  {
   "cell_type": "markdown",
   "metadata": {},
   "source": [
    "### b) What is the purpose of dockerizing an app?"
   ]
  },
  {
   "cell_type": "markdown",
   "metadata": {},
   "source": [
    "Dockerizing an app means packaging the application along with its dependencies (libraries, configurations, etc.) into a Docker container. This allows the app to run consistently across different environments (development, testing, production) without worrying about discrepancies in system setups, software versions, or dependencies. Docker ensures that the app runs the same way, regardless of where it's deployed."
   ]
  },
  {
   "cell_type": "markdown",
   "metadata": {},
   "source": [
    "### c) What is the difference between dockerfile and docker compose?"
   ]
  },
  {
   "cell_type": "markdown",
   "metadata": {},
   "source": [
    "Dockerfile defines how to build a single Docker image. It contains instructions such as setting up the base image, copying files, installing dependencies, and specifying environment variables or entry points.\n",
    "\n",
    "Docker compose is a tool for defining and running multi-container Docker applications. It uses a YAML file (docker-compose.yml) to define services, networks, and volumes. It's typically used to orchestrate multiple containers, making it easier to manage and configure applications that require more than one container (e.g., a web server and a database)."
   ]
  },
  {
   "cell_type": "markdown",
   "metadata": {},
   "source": [
    "### d) What is Docker, and how does it differ from traditional virtualization?"
   ]
  },
  {
   "cell_type": "markdown",
   "metadata": {},
   "source": [
    "Docker is a platform that uses containerization to package and run applications in isolated environments. It allows applications to run consistently across different computing environments by packaging them along with their dependencies.\n",
    "\n",
    "Docker vs. Traditional Virtualization:\n",
    "\n",
    "Containers (Docker) share the host operating system kernel but run in isolated environments, making them more lightweight and faster.\n",
    "\n",
    "Virtual Machines (VMs), on the other hand, require their own OS, leading to higher overhead and resource consumption.\n",
    "\n",
    "Docker containers are more efficient in terms of system resources, start much faster, and are easier to scale compared to VMs."
   ]
  },
  {
   "cell_type": "markdown",
   "metadata": {},
   "source": [
    "### e) What are the key components of Docker?"
   ]
  },
  {
   "cell_type": "markdown",
   "metadata": {},
   "source": [
    "Docker Engine:\n",
    "- The core component that runs and manages Docker containers. It consists of a client (Docker CLI), a daemon (background service), and a REST API to interact with Docker.\n",
    "\n",
    "Docker Images:\n",
    "- Read-only templates used to create Docker containers. An image includes the application and its dependencies, environment, and configurations.\n",
    "\n",
    "Docker Containers:\n",
    "- Running instances of Docker images. Containers are isolated, lightweight, and can be started and stopped easily.\n",
    "\n",
    "Docker Volumes:\n",
    "- Persistent storage for Docker containers, used to store data that needs to persist across container restarts or shutdowns.\n",
    "\n",
    "Docker Network:\n",
    "- Allows containers to communicate with each other, the host machine, or the outside world.\n",
    "\n",
    "Docker Compose:\n",
    "- A tool for defining and managing multi-container applications. You use docker-compose.yml to configure services, networks, and volumes."
   ]
  },
  {
   "cell_type": "markdown",
   "metadata": {},
   "source": [
    "### f) What is a Docker image, and how is it different from a container?"
   ]
  },
  {
   "cell_type": "markdown",
   "metadata": {},
   "source": [
    "A Docker image is a lightweight, standalone, and executable package that contains everything needed to run a software application — the code, runtime, libraries, and environment variables. It is immutable and cannot be changed once created.\n",
    "\n",
    "A Docker container is a running instance of a Docker image. Containers are mutable, meaning they can change while they are running (e.g., modifying files, installing packages). When a container is stopped or deleted, any changes to it are lost unless persisted in a volume."
   ]
  },
  {
   "cell_type": "markdown",
   "metadata": {},
   "source": [
    "### g) What is a Docker volume, and why is it used?"
   ]
  },
  {
   "cell_type": "markdown",
   "metadata": {},
   "source": [
    "A Docker volume is a persistent storage mechanism for Docker containers. It allows you to store data outside of the container’s filesystem, ensuring that data persists even if the container is stopped or removed.\n",
    "\n",
    "Why use Docker volumes:\n",
    "- Persistence: Volumes ensure that data generated or used by a container remains intact even if the container is deleted or recreated.\n",
    "- Data Sharing: Volumes can be shared between multiple containers, which is useful when you need different containers to access the same data (e.g., a database and a web server).\n",
    "- Performance: Volumes are stored outside of containers and are optimized for performance, especially when running on Docker's native storage drivers.\n",
    "\n",
    "Example: If you have a database running in a Docker container, you would use a volume to store its data so that it persists across container restarts."
   ]
  },
  {
   "cell_type": "markdown",
   "metadata": {},
   "source": [
    "# Glossary"
   ]
  },
  {
   "cell_type": "markdown",
   "metadata": {},
   "source": [
    "host system\t- Imagine your computer is like a house. The host system is the whole house—everything inside it, like the furniture, kitchen, and rooms, makes up the place where things can live and work. In the computer world, it’s the physical machine or the computer itself that runs programs, including Docker.\n",
    "\n",
    "virtualization - Now, imagine you want to create a bunch of mini houses inside your big house, each with its own furniture, rooms, and stuff. Virtualization is the magic that lets you create these mini houses (called \"virtual machines\") inside your real house (the host system). Each mini house can run its own things, but they still share the same big house (the host system) to live in. So, it helps you have lots of separate spaces without needing a ton of physical computers.\n",
    "\n",
    "spin up\t- Imagine you're setting up a tent for a camping trip. To spin up something in Docker means to quickly set it up or launch it—like putting up your tent and getting things ready to use.\n",
    "\n",
    "dockerize - Dockerizing is like packing everything you need for your camping trip into a backpack. When you dockerize an app, you’re making sure it has everything it needs (like code, libraries, and tools) inside a neat package, ready to be run anywhere.\n",
    "\n",
    "docker build - Think of docker build like making a sandwich. You have all your ingredients (your app and its dependencies), and you “build” the sandwich by putting it all together. In Docker, when you build an image, you're putting together everything needed to run your app.\n",
    "\n",
    "docker run - Once your sandwich is ready, you run it by eating it, right? Well, with Docker, once you’ve built your app (like a sandwich), you run it in a container. Running it means you’re actually making the app work, using it on your computer or any other machine.\n",
    "\n",
    "docker layers - Imagine a big cake with lots of layers—each layer adds something different (like icing, cake, or filling). Docker layers are like that cake. When Docker builds an image, it stacks different parts on top of each other, like layers. Each layer is a small change or addition, like installing something extra or changing the app.\n",
    "\n",
    "container - A container is like a little box that holds everything needed to run an app. It’s a safe, isolated space for your app to live and work without messing with anything else on the computer. The container holds the app, its settings, and everything it needs to run, all packed neatly together.\n",
    "\n",
    "image - An image is like a blueprint or recipe. It’s the thing you use to create a container. The image has everything the container needs—like code, libraries, and settings—but it’s not running yet. It's just the plan!\n",
    "\n",
    "docker compose up -d - Think of docker-compose up -d like setting up a tent in your backyard, but you do it in the background while you’re busy with other stuff. The -d part stands for \"detached mode,\" which means Docker will set up everything, but you won’t see all the details in your terminal.\n",
    "\n",
    "docker compose up --build - This one is like saying, “Let’s set up everything from scratch and also make sure everything is freshly built.” If there were any changes to the app or the environment, it’ll rebuild it before running it.\n",
    "\n",
    "docker compose down\t- If you're done with your camp and want to pack up, docker-compose down stops everything and cleans up, like putting your tent and sleeping bag back in the closet. It removes the containers, networks, and any other stuff that was set up.\n",
    "\n",
    "docker exec -it /bin/bash - This is like entering your tent to hang out inside it. When you run docker exec -it /bin/bash, you’re opening a command line inside a running container to look around or make changes, just like stepping inside the container to mess with things.\n",
    "\n",
    "docker inspect - Imagine you have a magnifying glass, and you want to learn everything about a specific container or image. docker inspect shows all the details about a container or image, like its settings, network info, and more.\n",
    "\n",
    "docker ps - This command is like asking, “What tents are currently set up and running?” docker ps shows you a list of all running containers (your active apps or environments).\n",
    "\n",
    "docker volume ls - Think of docker volume as storage, like a shed in your backyard where you keep extra camping gear. docker volume ls -a lists all the storage (volumes) that Docker is using, even if they aren’t currently being used by a container.\n",
    "\n",
    "docker container ls -a - This is like asking, “Which tents have been set up, whether they’re open or packed up?” docker container ls -a shows all containers, including those that are not running.\n",
    "\n",
    "docker image ls -a - Docker image ls -a shows you all the Docker images on your computer—whether they’re being used to run something or not. \n",
    "\n",
    "docker image ls is like saying, “Show me all the toys I have.”\n",
    "The -a part means, “Show me every toy, even the ones I’m not using right now.”\n",
    "\n",
    "docker image prune - Imagine you're cleaning up the kitchen after a big meal, throwing away old, unused ingredients. docker image prune removes unused images, cleaning up space on your system. It only keeps the images that are actively in use.\n",
    "\n",
    "docker container prune - This is like getting rid of tents that are packed up and not being used. docker container prune removes all stopped containers to free up space.\n",
    "\n",
    "tag\t- A tag is like labeling a jar of jam with the date and flavor. When you tag an image, you give it a name or version so you can easily find it later. For example, an image might be tagged myapp:v1.\n",
    "\n",
    "docker rm - Imagine you’re throwing away a tent that you no longer need. docker rm is how you remove a container from your system. It deletes a container that’s no longer running or needed.\n"
   ]
  }
 ],
 "metadata": {
  "kernelspec": {
   "display_name": ".venv",
   "language": "python",
   "name": "python3"
  },
  "language_info": {
   "name": "python",
   "version": "3.12.5"
  }
 },
 "nbformat": 4,
 "nbformat_minor": 2
}
