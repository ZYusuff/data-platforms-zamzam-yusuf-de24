{
 "cells": [
  {
   "cell_type": "markdown",
   "metadata": {},
   "source": [
    "# Theory questions"
   ]
  },
  {
   "cell_type": "markdown",
   "metadata": {},
   "source": [
    "### a) What is the purpose of a dockerfile?"
   ]
  },
  {
   "cell_type": "markdown",
   "metadata": {},
   "source": [
    "A Dockerfile is a script that contains instructions to build a Docker image. It automates the process of creating a Docker image, specifying the base image, dependencies, environment variables, files to copy, and commands to run. In essence, it is a blueprint that defines how a containerized application should be set up."
   ]
  },
  {
   "cell_type": "markdown",
   "metadata": {},
   "source": [
    "### b) What is the purpose of dockerizing an app?"
   ]
  },
  {
   "cell_type": "markdown",
   "metadata": {},
   "source": [
    "Dockerizing an app means packaging the application along with its dependencies (libraries, configurations, etc.) into a Docker container. This allows the app to run consistently across different environments (development, testing, production) without worrying about discrepancies in system setups, software versions, or dependencies. Docker ensures that the app runs the same way, regardless of where it's deployed."
   ]
  },
  {
   "cell_type": "markdown",
   "metadata": {},
   "source": [
    "### c) What is the difference between dockerfile and docker compose?"
   ]
  },
  {
   "cell_type": "markdown",
   "metadata": {},
   "source": [
    "Dockerfile defines how to build a single Docker image. It contains instructions such as setting up the base image, copying files, installing dependencies, and specifying environment variables or entry points.\n",
    "\n",
    "Docker compose is a tool for defining and running multi-container Docker applications. It uses a YAML file (docker-compose.yml) to define services, networks, and volumes. It's typically used to orchestrate multiple containers, making it easier to manage and configure applications that require more than one container (e.g., a web server and a database)."
   ]
  },
  {
   "cell_type": "markdown",
   "metadata": {},
   "source": [
    "### d) What is Docker, and how does it differ from traditional virtualization?"
   ]
  },
  {
   "cell_type": "markdown",
   "metadata": {},
   "source": [
    "Docker is a platform that uses containerization to package and run applications in isolated environments. It allows applications to run consistently across different computing environments by packaging them along with their dependencies.\n",
    "\n",
    "Docker vs. Traditional Virtualization:\n",
    "\n",
    "Containers (Docker) share the host operating system kernel but run in isolated environments, making them more lightweight and faster.\n",
    "\n",
    "Virtual Machines (VMs), on the other hand, require their own OS, leading to higher overhead and resource consumption.\n",
    "\n",
    "Docker containers are more efficient in terms of system resources, start much faster, and are easier to scale compared to VMs."
   ]
  },
  {
   "cell_type": "markdown",
   "metadata": {},
   "source": [
    "### e) What are the key components of Docker?"
   ]
  },
  {
   "cell_type": "markdown",
   "metadata": {},
   "source": [
    "Docker Engine:\n",
    "- The core component that runs and manages Docker containers. It consists of a client (Docker CLI), a daemon (background service), and a REST API to interact with Docker.\n",
    "\n",
    "Docker Images:\n",
    "- Read-only templates used to create Docker containers. An image includes the application and its dependencies, environment, and configurations.\n",
    "\n",
    "Docker Containers:\n",
    "- Running instances of Docker images. Containers are isolated, lightweight, and can be started and stopped easily.\n",
    "\n",
    "Docker Volumes:\n",
    "- Persistent storage for Docker containers, used to store data that needs to persist across container restarts or shutdowns.\n",
    "\n",
    "Docker Network:\n",
    "- Allows containers to communicate with each other, the host machine, or the outside world.\n",
    "\n",
    "Docker Compose:\n",
    "- A tool for defining and managing multi-container applications. You use docker-compose.yml to configure services, networks, and volumes."
   ]
  },
  {
   "cell_type": "markdown",
   "metadata": {},
   "source": [
    "### f) What is a Docker image, and how is it different from a container?"
   ]
  },
  {
   "cell_type": "markdown",
   "metadata": {},
   "source": [
    "A Docker image is a lightweight, standalone, and executable package that contains everything needed to run a software application — the code, runtime, libraries, and environment variables. It is immutable and cannot be changed once created.\n",
    "\n",
    "A Docker container is a running instance of a Docker image. Containers are mutable, meaning they can change while they are running (e.g., modifying files, installing packages). When a container is stopped or deleted, any changes to it are lost unless persisted in a volume."
   ]
  },
  {
   "cell_type": "markdown",
   "metadata": {},
   "source": [
    "### g) What is a Docker volume, and why is it used?"
   ]
  },
  {
   "cell_type": "markdown",
   "metadata": {},
   "source": [
    "A Docker volume is a persistent storage mechanism for Docker containers. It allows you to store data outside of the container’s filesystem, ensuring that data persists even if the container is stopped or removed.\n",
    "\n",
    "Why use Docker volumes:\n",
    "- Persistence: Volumes ensure that data generated or used by a container remains intact even if the container is deleted or recreated.\n",
    "- Data Sharing: Volumes can be shared between multiple containers, which is useful when you need different containers to access the same data (e.g., a database and a web server).\n",
    "- Performance: Volumes are stored outside of containers and are optimized for performance, especially when running on Docker's native storage drivers.\n",
    "\n",
    "Example: If you have a database running in a Docker container, you would use a volume to store its data so that it persists across container restarts."
   ]
  },
  {
   "cell_type": "markdown",
   "metadata": {},
   "source": [
    "# Glossary"
   ]
  },
  {
   "cell_type": "markdown",
   "metadata": {},
   "source": [
    "host system\t- \n",
    "\n",
    "virtualization -\n",
    "\n",
    "spin up\t- \n",
    "\n",
    "dockerize - \n",
    "\n",
    "docker build -\n",
    "\n",
    "docker run -\n",
    "\n",
    "docker layers -\n",
    "\n",
    "container - \n",
    "\n",
    "image - \n",
    "\n",
    "docker compose up -d -\n",
    "\n",
    "docker compose up --build -\n",
    "\n",
    "docker compose down\t-\n",
    "\n",
    "docker exec -it /bin/bash -\n",
    "\n",
    "docker inspect -\n",
    "\n",
    "docker ps -\n",
    "\n",
    "docker volume ls - \n",
    "\n",
    "docker container ls -a - \n",
    "\n",
    "docker image ls -a - \n",
    "\n",
    "docker image prune - \n",
    "\n",
    "docker container prune -\n",
    "\n",
    "tag\t- \n",
    "\n",
    "docker rm - "
   ]
  }
 ],
 "metadata": {
  "kernelspec": {
   "display_name": ".venv",
   "language": "python",
   "name": "python3"
  },
  "language_info": {
   "name": "python",
   "version": "3.12.5"
  }
 },
 "nbformat": 4,
 "nbformat_minor": 2
}
